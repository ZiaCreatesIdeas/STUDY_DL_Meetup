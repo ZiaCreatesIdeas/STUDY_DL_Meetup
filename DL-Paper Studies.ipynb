{
 "cells": [
  {
   "cell_type": "markdown",
   "id": "2b4af21e",
   "metadata": {},
   "source": [
    "The origins of ChatGPT: <br>\n",
    "### Training language models to follow instructions with human feedback <br>\n",
    "https://arxiv.org/abs/2203.02155"
   ]
  },
  {
   "cell_type": "code",
   "execution_count": null,
   "id": "4b92bfe1",
   "metadata": {},
   "outputs": [],
   "source": []
  }
 ],
 "metadata": {
  "kernelspec": {
   "display_name": "Python 3 (ipykernel)",
   "language": "python",
   "name": "python3"
  },
  "language_info": {
   "codemirror_mode": {
    "name": "ipython",
    "version": 3
   },
   "file_extension": ".py",
   "mimetype": "text/x-python",
   "name": "python",
   "nbconvert_exporter": "python",
   "pygments_lexer": "ipython3",
   "version": "3.9.7"
  }
 },
 "nbformat": 4,
 "nbformat_minor": 5
}
